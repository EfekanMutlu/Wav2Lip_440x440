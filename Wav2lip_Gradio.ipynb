{
  "nbformat": 4,
  "nbformat_minor": 0,
  "metadata": {
    "colab": {
      "provenance": [],
      "machine_shape": "hm"
    },
    "kernelspec": {
      "name": "python3",
      "display_name": "Python 3"
    },
    "language_info": {
      "name": "python"
    }
  },
  "cells": [
    {
      "cell_type": "markdown",
      "source": [
        "#Kurulum"
      ],
      "metadata": {
        "id": "ZGlEyG3ZJuKB"
      }
    },
    {
      "cell_type": "code",
      "execution_count": 1,
      "metadata": {
        "colab": {
          "base_uri": "https://localhost:8080/"
        },
        "id": "ZaWYDrMf8INK",
        "outputId": "f41006bd-3611-40db-8a4d-b56b61d5ebd3"
      },
      "outputs": [
        {
          "output_type": "stream",
          "name": "stdout",
          "text": [
            "Mounted at /content/gdrive\n"
          ]
        }
      ],
      "source": [
        "from google.colab import drive\n",
        "drive.mount('/content/gdrive')"
      ]
    },
    {
      "cell_type": "code",
      "source": [
        "! git clone https://github.com/EfekanMutlu/Wav2Lip_HD-main.git\n",
        "%cd Wav2Lip_HD-main"
      ],
      "metadata": {
        "id": "PmiqIFEEJoV0"
      },
      "execution_count": null,
      "outputs": []
    },
    {
      "cell_type": "code",
      "source": [
        "! pip install -r requirements.txt\n",
        "! pip install wandb\n",
        "! pip install onnx\n",
        "! pip install gradio\n",
        "! pip install yt_dlp ffmpeg-python librosa"
      ],
      "metadata": {
        "id": "MJAxf9NVJqAN"
      },
      "execution_count": null,
      "outputs": []
    },
    {
      "cell_type": "markdown",
      "source": [
        "# Gradio UI"
      ],
      "metadata": {
        "id": "yf2BoyAEJxPS"
      }
    },
    {
      "cell_type": "code",
      "source": [
        "! python inference.py --checkpoint_path /content/gdrive/MyDrive/wav2lip500.pth --face /content/gdrive/MyDrive/input_video.mp4 --audio /content/gdrive/MyDrive/input_audio.wav"
      ],
      "metadata": {
        "id": "DZv3oKwvJzSB"
      },
      "execution_count": null,
      "outputs": []
    },
    {
      "cell_type": "code",
      "source": [
        "import gradio as gr\n",
        "import os\n",
        "\n",
        "def generate(video_in, audio_in):\n",
        "    print(f\"Video input: {video_in}\")\n",
        "    print(f\"Audio input: {audio_in}\")\n",
        "    os.system(f\"! python inference.py --checkpoint_path /content/gdrive/MyDrive/wav2lip500.pth --face '{video_in}' --audio '{audio_in}'\")\n",
        "    return f\"/content/Wav2Lip_HD-main/results/result_voice.mp4\"\n",
        "\n",
        "with gr.Blocks() as demo:\n",
        "    gr.Markdown(\"# Wav2lip HQ Demo\")\n",
        "    gr.Markdown(\"Yüksek Çözünürlüklü Görüntülerle Eğitilmiş Wav2lip modelinin demosu\")\n",
        "\n",
        "    with gr.Row():\n",
        "        video_in = gr.Video(show_label=True, label=\"Upload Video\")\n",
        "        audio_in = gr.Audio(show_label=True, type='filepath', label=\"Upload Audio\")\n",
        "\n",
        "    input_generate_button = gr.Button(value=\"Generate\")\n",
        "    video_out = gr.Video(label=\"Output Video\")\n",
        "\n",
        "    input_generate_button.click(generate, inputs=[video_in, audio_in], outputs=[video_out])\n",
        "\n",
        "    examples = gr.Examples(\n",
        "        examples=[\n",
        "            [\"/content/gdrive/MyDrive/input_video.mp4\", \"/content/gdrive/MyDrive/input_audio.wav\"],\n",
        "        ],\n",
        "        inputs=[video_in, audio_in]\n",
        "    )\n",
        "\n",
        "demo.queue().launch(inline=False, share=True, debug=True)"
      ],
      "metadata": {
        "colab": {
          "base_uri": "https://localhost:8080/"
        },
        "id": "Zm6_PEW_Mt9x",
        "outputId": "f3334e33-4f83-4296-ca49-a8916d34c575"
      },
      "execution_count": 4,
      "outputs": [
        {
          "output_type": "stream",
          "name": "stdout",
          "text": [
            "Colab notebook detected. This cell will run indefinitely so that you can see errors and logs. To turn off, set debug=False in launch().\n",
            "Running on public URL: https://cfe57eb85273ab6af8.gradio.live\n",
            "\n",
            "This share link expires in 72 hours. For free permanent hosting and GPU upgrades, run `gradio deploy` from Terminal to deploy to Spaces (https://huggingface.co/spaces)\n",
            "Video input: /tmp/gradio/28f5a3ba3f59509c29a2c0cb71073abc7d175bdb/input_video.mp4\n",
            "Audio input: /tmp/gradio/de238176c6f021fd54eb32ffe752660f486afffe/input_audio.wav\n",
            "Keyboard interruption in main thread... closing server.\n",
            "Killing tunnel 127.0.0.1:7860 <> https://cfe57eb85273ab6af8.gradio.live\n"
          ]
        },
        {
          "output_type": "execute_result",
          "data": {
            "text/plain": []
          },
          "metadata": {},
          "execution_count": 4
        }
      ]
    }
  ]
}