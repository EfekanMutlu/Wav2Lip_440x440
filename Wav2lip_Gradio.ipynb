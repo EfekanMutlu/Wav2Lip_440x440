{
  "nbformat": 4,
  "nbformat_minor": 0,
  "metadata": {
    "colab": {
      "provenance": [],
      "machine_shape": "hm"
    },
    "kernelspec": {
      "name": "python3",
      "display_name": "Python 3"
    },
    "language_info": {
      "name": "python"
    }
  },
  "cells": [
    {
      "cell_type": "markdown",
      "source": [
        "#Kurulum"
      ],
      "metadata": {
        "id": "ZGlEyG3ZJuKB"
      }
    },
    {
      "cell_type": "code",
      "execution_count": 1,
      "metadata": {
        "colab": {
          "base_uri": "https://localhost:8080/"
        },
        "id": "ZaWYDrMf8INK",
        "outputId": "e03f6a2e-fec5-475b-8781-8577bf447016"
      },
      "outputs": [
        {
          "output_type": "stream",
          "name": "stdout",
          "text": [
            "Mounted at /content/gdrive\n"
          ]
        }
      ],
      "source": [
        "from google.colab import drive\n",
        "drive.mount('/content/gdrive')"
      ]
    },
    {
      "cell_type": "code",
      "source": [
        "! git clone https://github.com/EfekanMutlu/Wav2Lip_HD-main.git\n",
        "%cd Wav2Lip_HD-main"
      ],
      "metadata": {
        "id": "PmiqIFEEJoV0"
      },
      "execution_count": null,
      "outputs": []
    },
    {
      "cell_type": "code",
      "source": [
        "! pip install -r requirements.txt\n",
        "! pip install wandb\n",
        "! pip install onnx\n",
        "! pip install gradio\n",
        "! pip install yt_dlp ffmpeg-python librosa"
      ],
      "metadata": {
        "id": "MJAxf9NVJqAN"
      },
      "execution_count": null,
      "outputs": []
    },
    {
      "cell_type": "markdown",
      "source": [
        "# Gradio UI"
      ],
      "metadata": {
        "id": "yf2BoyAEJxPS"
      }
    },
    {
      "cell_type": "code",
      "source": [
        "! python inference.py --checkpoint_path /content/gdrive/MyDrive/wav2lip500.pth --face /content/gdrive/MyDrive/input_video.mp4 --audio /content/gdrive/MyDrive/input_audio.wav"
      ],
      "metadata": {
        "id": "DZv3oKwvJzSB"
      },
      "execution_count": null,
      "outputs": []
    },
    {
      "cell_type": "code",
      "source": [
        "import gradio as gr\n",
        "import os\n",
        "\n",
        "def generate(video_in, audio_in):\n",
        "    print(f\"Video input: {video_in}\")\n",
        "    print(f\"Audio input: {audio_in}\")\n",
        "    os.system(f\"! python inference.py --checkpoint_path /content/gdrive/MyDrive/wav2lip500.pth --face '{video_in}' --audio '{audio_in}'\")\n",
        "    return f\"/content/Wav2Lip_HD-main/results/result_voice.mp4\"\n",
        "\n",
        "with gr.Blocks() as demo:\n",
        "    gr.Markdown(\"# Wav2lip HQ Demo\")\n",
        "    gr.Markdown(\"Yüksek Çözünürlüklü Görüntülerle Eğitilmiş Wav2lip modelinin demosu\")\n",
        "\n",
        "    with gr.Row():\n",
        "        video_in = gr.Video(show_label=True, label=\"Upload Video\")\n",
        "        audio_in = gr.Audio(show_label=True, type='filepath', label=\"Upload Audio\")\n",
        "\n",
        "    input_generate_button = gr.Button(value=\"Generate\")\n",
        "    video_out = gr.Video(label=\"Output Video\")\n",
        "\n",
        "    input_generate_button.click(generate, inputs=[video_in, audio_in], outputs=[video_out])\n",
        "\n",
        "    examples = gr.Examples(\n",
        "        examples=[\n",
        "            [\"/content/gdrive/MyDrive/input_video.mp4\", \"/content/gdrive/MyDrive/input_audio.wav\"],\n",
        "            [\"/content/gdrive/MyDrive/kennedy.mp4\",\"/content/gdrive/MyDrive/input_audio.wav\"],\n",
        "            [\"/content/gdrive/MyDrive/mona.mp4\",\"/content/gdrive/MyDrive/input_audio.wav\"]\n",
        "        ],\n",
        "        inputs=[video_in, audio_in]\n",
        "    )\n",
        "\n",
        "demo.queue().launch(inline=False, share=True, debug=True)"
      ],
      "metadata": {
        "id": "Zm6_PEW_Mt9x"
      },
      "execution_count": null,
      "outputs": []
    }
  ]
}