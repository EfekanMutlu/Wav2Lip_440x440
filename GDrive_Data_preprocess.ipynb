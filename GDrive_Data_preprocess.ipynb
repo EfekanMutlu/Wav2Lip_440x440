{
  "nbformat": 4,
  "nbformat_minor": 0,
  "metadata": {
    "colab": {
      "provenance": []
    },
    "kernelspec": {
      "name": "python3",
      "display_name": "Python 3"
    },
    "language_info": {
      "name": "python"
    }
  },
  "cells": [
    {
      "cell_type": "code",
      "execution_count": null,
      "metadata": {
        "id": "1MQWgrIYRreC"
      },
      "outputs": [],
      "source": [
        "! pip install git+https://github.com/sberbank-ai/Real-ESRGAN.git"
      ]
    },
    {
      "cell_type": "code",
      "source": [
        "from google.colab import drive\n",
        "drive.mount('/content/gdrive')"
      ],
      "metadata": {
        "colab": {
          "base_uri": "https://localhost:8080/"
        },
        "id": "zsAmsF0-R1lH",
        "outputId": "525e05b1-863a-4c5f-a568-840f162577df"
      },
      "execution_count": null,
      "outputs": [
        {
          "output_type": "stream",
          "name": "stdout",
          "text": [
            "Mounted at /content/gdrive\n"
          ]
        }
      ]
    },
    {
      "cell_type": "markdown",
      "source": [
        "# Audio.wav Dosyası Kopyalama"
      ],
      "metadata": {
        "id": "lKiVmQxy9v2B"
      }
    },
    {
      "cell_type": "code",
      "source": [
        "import os\n",
        "import shutil\n",
        "\n",
        "base_input_path = '/content/gdrive/MyDrive/wav2lip_scaled_dataset_drive/'\n",
        "base_output_path = '/content/gdrive/MyDrive/wav2lip_rescaled_dataset_drive/'\n",
        "\n",
        "\n",
        "for klasor_id_1 in os.listdir(base_input_path):\n",
        "    klasor_input_path_1 = os.path.join(base_input_path, klasor_id_1)\n",
        "\n",
        "    if not os.path.isdir(klasor_input_path_1):\n",
        "        print(f\"Skipping {klasor_input_path_1} as it is not a directory\")\n",
        "        continue\n",
        "\n",
        "    for klasor_id_2 in os.listdir(klasor_input_path_1):\n",
        "        klasor_input_path_2 = os.path.join(klasor_input_path_1, klasor_id_2)\n",
        "\n",
        "        if not os.path.isdir(klasor_input_path_2):\n",
        "            print(f\"Skipping {klasor_input_path_2} as it is not a directory\")\n",
        "            continue\n",
        "\n",
        "        klasor_output_path = os.path.join(base_output_path, klasor_id_1, klasor_id_2)\n",
        "\n",
        "        #os.makedirs(klasor_output_path, exist_ok=True)\n",
        "\n",
        "        input_audio_path = os.path.join(klasor_input_path_2, 'audio.wav')\n",
        "        output_audio_path = os.path.join(klasor_output_path, 'audio.wav')\n",
        "\n",
        "        if os.path.isfile(input_audio_path):\n",
        "            try:\n",
        "                shutil.copy(input_audio_path, output_audio_path)\n",
        "                print(f'Copied {input_audio_path} to {output_audio_path}')\n",
        "            except Exception as e:\n",
        "                print(f\"Error copying {input_audio_path}: {e}\")\n",
        "        else:\n",
        "            print(f\"No audio.wav found in {klasor_input_path_2}\")\n"
      ],
      "metadata": {
        "id": "oyno93nHDRd3"
      },
      "execution_count": null,
      "outputs": []
    },
    {
      "cell_type": "markdown",
      "source": [
        "#ESRGAN Upscale"
      ],
      "metadata": {
        "id": "6XQSXm709z_5"
      }
    },
    {
      "cell_type": "code",
      "source": [
        "import os\n",
        "import torch\n",
        "from PIL import Image\n",
        "from RealESRGAN import RealESRGAN\n",
        "\n",
        "\n",
        "device = torch.device('cuda' if torch.cuda.is_available() else 'cpu')\n",
        "model = RealESRGAN(device, scale=4)\n",
        "model.load_weights('weights/RealESRGAN_x4.pth', download=True)\n",
        "\n",
        "\n",
        "base_input_path = '/content/gdrive/MyDrive/wav2lip_dataset_drive/'\n",
        "base_output_path = '/content/gdrive/MyDrive/wav2lip_scaled_dataset_drive/'\n",
        "\n",
        "\n",
        "for klasor_id_1 in os.listdir(base_input_path):\n",
        "    klasor_input_path_1 = os.path.join(base_input_path, klasor_id_1)\n",
        "\n",
        "    if not os.path.isdir(klasor_input_path_1):\n",
        "        print(f\"Skipping {klasor_input_path_1} as it is not a directory\")\n",
        "        continue\n",
        "\n",
        "    for klasor_id_2 in os.listdir(klasor_input_path_1):\n",
        "        klasor_input_path_2 = os.path.join(klasor_input_path_1, klasor_id_2)\n",
        "\n",
        "        if not os.path.isdir(klasor_input_path_2):\n",
        "            print(f\"Skipping {klasor_input_path_2} as it is not a directory\")\n",
        "            continue\n",
        "\n",
        "        klasor_output_path = os.path.join(base_output_path, klasor_id_1, klasor_id_2)\n",
        "        os.makedirs(klasor_output_path, exist_ok=True)\n",
        "\n",
        "        for img_id in os.listdir(klasor_input_path_2):\n",
        "            if img_id.endswith('.jpg'):\n",
        "                input_image_path = os.path.join(klasor_input_path_2, img_id)\n",
        "                output_image_path = os.path.join(klasor_output_path, img_id)\n",
        "\n",
        "                try:\n",
        "                    image = Image.open(input_image_path).convert('RGB')\n",
        "                    sr_image = model.predict(image)\n",
        "                    sr_image.save(output_image_path)\n",
        "                    print(f'Scaled image saved to {output_image_path}')\n",
        "                except Exception as e:\n",
        "                    print(f\"Error processing {input_image_path}: {e}\")\n"
      ],
      "metadata": {
        "id": "V5GDvFHrR-TU"
      },
      "execution_count": null,
      "outputs": []
    },
    {
      "cell_type": "markdown",
      "source": [
        "#OpenCV Resize"
      ],
      "metadata": {
        "id": "tgNbj1F493c-"
      }
    },
    {
      "cell_type": "code",
      "source": [
        "import os\n",
        "import cv2\n",
        "\n",
        "base_input_path = '/content/gdrive/MyDrive/wav2lip_scaled_dataset_drive/'\n",
        "base_output_path = '/content/gdrive/MyDrive/wav2lip_rescaled_dataset_drive/'\n",
        "\n",
        "\n",
        "target_size = (440,440)\n",
        "\n",
        "for klasor_id_1 in os.listdir(base_input_path):\n",
        "    klasor_input_path_1 = os.path.join(base_input_path, klasor_id_1)\n",
        "\n",
        "    if not os.path.isdir(klasor_input_path_1):\n",
        "        print(f\"Skipping {klasor_input_path_1} as it is not a directory\")\n",
        "        continue\n",
        "\n",
        "    for klasor_id_2 in os.listdir(klasor_input_path_1):\n",
        "        klasor_input_path_2 = os.path.join(klasor_input_path_1, klasor_id_2)\n",
        "\n",
        "        if not os.path.isdir(klasor_input_path_2):\n",
        "            print(f\"Skipping {klasor_input_path_2} as it is not a directory\")\n",
        "            continue\n",
        "\n",
        "        klasor_output_path = os.path.join(base_output_path, klasor_id_1, klasor_id_2)\n",
        "        os.makedirs(klasor_output_path, exist_ok=True)\n",
        "\n",
        "        for img_id in os.listdir(klasor_input_path_2):\n",
        "            if img_id.endswith('.jpg'):\n",
        "                input_image_path = os.path.join(klasor_input_path_2, img_id)\n",
        "                output_image_path = os.path.join(klasor_output_path, img_id)\n",
        "\n",
        "                try:\n",
        "                    image = cv2.imread(input_image_path)\n",
        "                    resized_image = cv2.resize(image, target_size)\n",
        "                    cv2.imwrite(output_image_path, resized_image)\n",
        "                    print(f'Resized image saved to {output_image_path}')\n",
        "                except Exception as e:\n",
        "                    print(f\"Error processing {input_image_path}: {e}\")\n"
      ],
      "metadata": {
        "id": "yc2kPQCqNGD5"
      },
      "execution_count": null,
      "outputs": []
    },
    {
      "cell_type": "markdown",
      "source": [
        "#Train.txt & Valid.txt olusturma"
      ],
      "metadata": {
        "id": "Ge1Q-q2O-bkb"
      }
    },
    {
      "cell_type": "code",
      "source": [
        "import os\n",
        "from glob import glob\n",
        "from sklearn.model_selection import train_test_split\n",
        "\n",
        "def trained_data_name_format(base_path):\n",
        "    result = list(glob(\"{}/*\".format(base_path)))\n",
        "    result_list = []\n",
        "\n",
        "    for i, dirpath in enumerate(result):\n",
        "        dirs = os.listdir(dirpath)\n",
        "        for f in dirs:\n",
        "            result_list.append(str(os.path.join(dirpath.replace(base_path, ''), f)))\n",
        "\n",
        "    if len(result_list) < 14:\n",
        "        test_result = val_result = train_result = result_list\n",
        "    else:\n",
        "        train_result, test_result = train_test_split(result_list, test_size=0.2, random_state=42)\n",
        "        test_result, val_result = train_test_split(test_result, test_size=0.5, random_state=42)\n",
        "\n",
        "    os.makedirs(\"filelists\", exist_ok=True)\n",
        "    for file_name, dataset in zip((\"train.txt\", \"test.txt\", \"val.txt\"), (train_result, test_result, val_result)):\n",
        "        with open(os.path.join(\"filelists\", file_name), 'w', encoding='utf-8') as fi:\n",
        "            fi.write(\"\\n\".join(dataset))\n",
        "\n",
        "trained_data_name_format(\"/content/gdrive/MyDrive/wav2lip_rescaled_dataset_drive/\")"
      ],
      "metadata": {
        "id": "YNN0rEUA-heq"
      },
      "execution_count": null,
      "outputs": []
    }
  ]
}